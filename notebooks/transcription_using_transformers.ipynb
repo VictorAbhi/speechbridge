{
 "cells": [
  {
   "cell_type": "code",
   "execution_count": 1,
   "id": "67f3505d",
   "metadata": {},
   "outputs": [],
   "source": [
    "import numpy as np\n",
    "import torch\n",
    "import librosa"
   ]
  },
  {
   "cell_type": "code",
   "execution_count": 2,
   "id": "ad4f9659",
   "metadata": {},
   "outputs": [
    {
     "name": "stderr",
     "output_type": "stream",
     "text": [
      "c:\\Users\\adabh\\Documents\\projects\\speechbridge\\.venv\\lib\\site-packages\\tqdm\\auto.py:21: TqdmWarning: IProgress not found. Please update jupyter and ipywidgets. See https://ipywidgets.readthedocs.io/en/stable/user_install.html\n",
      "  from .autonotebook import tqdm as notebook_tqdm\n"
     ]
    }
   ],
   "source": [
    "# For using Hugging Face Transformers with Whisper\n",
    "from transformers import AutoProcessor, AutoModelForSpeechSeq2Seq\n",
    "\n",
    "processor = AutoProcessor.from_pretrained(\"BlueRaccoon/whisper-small-en\")\n",
    "model = AutoModelForSpeechSeq2Seq.from_pretrained(\"BlueRaccoon/whisper-small-en\")"
   ]
  },
  {
   "cell_type": "code",
   "execution_count": 8,
   "id": "0fce61af",
   "metadata": {},
   "outputs": [
    {
     "data": {
      "text/plain": [
       "WhisperForConditionalGeneration(\n",
       "  (model): WhisperModel(\n",
       "    (encoder): WhisperEncoder(\n",
       "      (conv1): Conv1d(80, 768, kernel_size=(3,), stride=(1,), padding=(1,))\n",
       "      (conv2): Conv1d(768, 768, kernel_size=(3,), stride=(2,), padding=(1,))\n",
       "      (embed_positions): Embedding(1500, 768)\n",
       "      (layers): ModuleList(\n",
       "        (0-11): 12 x WhisperEncoderLayer(\n",
       "          (self_attn): WhisperAttention(\n",
       "            (k_proj): Linear(in_features=768, out_features=768, bias=False)\n",
       "            (v_proj): Linear(in_features=768, out_features=768, bias=True)\n",
       "            (q_proj): Linear(in_features=768, out_features=768, bias=True)\n",
       "            (out_proj): Linear(in_features=768, out_features=768, bias=True)\n",
       "          )\n",
       "          (self_attn_layer_norm): LayerNorm((768,), eps=1e-05, elementwise_affine=True)\n",
       "          (activation_fn): GELUActivation()\n",
       "          (fc1): Linear(in_features=768, out_features=3072, bias=True)\n",
       "          (fc2): Linear(in_features=3072, out_features=768, bias=True)\n",
       "          (final_layer_norm): LayerNorm((768,), eps=1e-05, elementwise_affine=True)\n",
       "        )\n",
       "      )\n",
       "      (layer_norm): LayerNorm((768,), eps=1e-05, elementwise_affine=True)\n",
       "    )\n",
       "    (decoder): WhisperDecoder(\n",
       "      (embed_tokens): Embedding(51865, 768, padding_idx=50257)\n",
       "      (embed_positions): WhisperPositionalEmbedding(448, 768)\n",
       "      (layers): ModuleList(\n",
       "        (0-11): 12 x WhisperDecoderLayer(\n",
       "          (self_attn): WhisperAttention(\n",
       "            (k_proj): Linear(in_features=768, out_features=768, bias=False)\n",
       "            (v_proj): Linear(in_features=768, out_features=768, bias=True)\n",
       "            (q_proj): Linear(in_features=768, out_features=768, bias=True)\n",
       "            (out_proj): Linear(in_features=768, out_features=768, bias=True)\n",
       "          )\n",
       "          (activation_fn): GELUActivation()\n",
       "          (self_attn_layer_norm): LayerNorm((768,), eps=1e-05, elementwise_affine=True)\n",
       "          (encoder_attn): WhisperAttention(\n",
       "            (k_proj): Linear(in_features=768, out_features=768, bias=False)\n",
       "            (v_proj): Linear(in_features=768, out_features=768, bias=True)\n",
       "            (q_proj): Linear(in_features=768, out_features=768, bias=True)\n",
       "            (out_proj): Linear(in_features=768, out_features=768, bias=True)\n",
       "          )\n",
       "          (encoder_attn_layer_norm): LayerNorm((768,), eps=1e-05, elementwise_affine=True)\n",
       "          (fc1): Linear(in_features=768, out_features=3072, bias=True)\n",
       "          (fc2): Linear(in_features=3072, out_features=768, bias=True)\n",
       "          (final_layer_norm): LayerNorm((768,), eps=1e-05, elementwise_affine=True)\n",
       "        )\n",
       "      )\n",
       "      (layer_norm): LayerNorm((768,), eps=1e-05, elementwise_affine=True)\n",
       "    )\n",
       "  )\n",
       "  (proj_out): Linear(in_features=768, out_features=51865, bias=False)\n",
       ")"
      ]
     },
     "execution_count": 8,
     "metadata": {},
     "output_type": "execute_result"
    }
   ],
   "source": [
    "device = torch.device(\"cuda\" if torch.cuda.is_available() else \"cpu\")\n",
    "model.to(device)"
   ]
  },
  {
   "cell_type": "code",
   "execution_count": 2,
   "id": "ff7d4db5",
   "metadata": {},
   "outputs": [],
   "source": [
    "def load_audio_chunks(file_path, chunk_duration=30, sample_rate=16000, overlap=1.0):\n",
    "    audio, sr = librosa.load(file_path, sr=sample_rate)\n",
    "    chunk_samples = int(chunk_duration * sample_rate)\n",
    "    step = int((chunk_duration - overlap) * sample_rate)\n",
    "\n",
    "    chunks = []\n",
    "    for start in range(0, len(audio), step):\n",
    "        end = start + chunk_samples\n",
    "        if end > len(audio):\n",
    "            chunk = np.pad(audio[start:], (0, end - len(audio)))\n",
    "        else:\n",
    "            chunk = audio[start:end]\n",
    "        chunks.append(chunk)\n",
    "    return chunks"
   ]
  },
  {
   "cell_type": "code",
   "execution_count": 3,
   "id": "2d85ebfa",
   "metadata": {},
   "outputs": [],
   "source": [
    "def transcribe_chunks(chunks):\n",
    "    full_transcript = \"\"\n",
    "    for i, chunk in enumerate(chunks):\n",
    "        inputs = processor(chunk, sampling_rate=16000, return_tensors=\"pt\").input_features.to(device)\n",
    "        predicted_ids = model.generate(inputs)\n",
    "        transcription = processor.batch_decode(predicted_ids, skip_special_tokens=True)[0]\n",
    "        print(f\"Chunk {i+1}/{len(chunks)}: {transcription}\")\n",
    "        full_transcript += transcription.strip() + \" \"\n",
    "    return full_transcript.strip()"
   ]
  },
  {
   "cell_type": "code",
   "execution_count": 7,
   "id": "12640d8d",
   "metadata": {},
   "outputs": [],
   "source": [
    "transcript = \"Iran Supreme Leader Ayatollah Ali Hami  has warned Washington of irreparable  consequences if the US becomes directly  involved in Israel's military campaign  against Tehran. It's understood that  President Trump is considering joining  the attacks on Iran's nuclear sites.  Here's our diplomatic correspondent  Caroline Hol.  For a sixth straight night, Israel kept  up its unprecedented assault on Iran.  These images captured by an Iranian  television station show air defenses in  action above Tehran trying to stop  incoming Israeli fire. This is a  building hit in the capital. We don't  know the exact target, but Israel says  that overnight it hit a university  linked to Iran's powerful revolutionary  guards as well as facilities linked to  its missile and nuclear program.  These satellite images show a military  base in Tabre in the northwest of the  country. here before and here after it  was struck.  Donald Trump, who left a meeting of G7  leaders early, has called for Iran's  unconditional surrender and is reported  to be considering joining Israel's  strikes on its nuclear facilities. He's  described the country's supreme leader  as an easy target.  Now, a defiant response from Ayatah Ali  Ki, his words read out by a presenter on  staterun TV. Iranians, he said, are not  people who surrender, and any form of US  military intervention would be met with  what he called irreparable harm.  For civilians in Tehran, these are  terrifying times. Shops shut, quiet  streets. Many people are holed up at  home, hiding, we're told, in basement  and garages. Many others have already  fled the capital. Among them, Nagis  Muhammadi, winner of the Nobel Peace  Prize, who spent many years in Iran's  jails.  I witnessed horrendous attacks. They're  hitting infrastructure, a lot of  civilian deaths. We have a misogynist  theocracy in Iran with the Supreme  Leader Ali K on the top who took us to  hell whilst promising heaven. And at the  same time, now Netanyahu is also taking  us to hell.  Iran is still firing at Israel, but not  at the same rate as before. Overnight,  missiles were intercepted over Tel Aviv.  Some limited damage reported, but no  more casualties.  In Cyprus, two repatriation flights were  laid on to bring Israelis stranded  abroad back home. Nobody knows how long  the war will go on for, how it might  escalate or end. And so many Iranians  and foreign nationals are escaping Iran  if they can. This the border with  Pakistan, but many others are trapped  where they are. Everyone afraid of what  could come next. Caroline Holy, BBC  News.  Well, in a moment we'll speak with our  Middle East correspondent, Hugo Bacha,  who's in Jerusalem this lunchtime. But  first to our North America  correspondents in Washington, Nomia  Ikbal. and uh Nomia, the war of words is  ramping up. Here we are on day six. But  what exactly do we know about America's  intentions? How far will they go?  Well, the world is waiting to see what  President Trump will do next. We've not  had any reaction from the White House so  far. There's been no flurry of social  media posts from him like we saw  yesterday, although uh that could happen  at any moment. Uh there are reports that  the US is leaning towards involvement  rather than diplomacy and that would  involve sending US troops to the region  to use those bunker buster bombs to  destroy Iran's nuclear capabilities deep  underground. But make no mistake, if  that is what the US does, it is a  profoundly defining moment of Trump's  presidency. Seismic. This is a man who  has long campaigned for no foreign wars,  attacked Barack Obama, accusing him of  trying to start a war with Iran. and  only back in May said in Saudi Arabia  that the era of foreign intervention was  over. So lots of his supporters will be  saying what happened to that man. Could  there be regime change? Well, Donald  Trump also said yesterday threatened to  potentially kill the Supreme Leader. So  we just don't know uh what could happen  next and bear in mind if the US does get  involved, how could Iran react to it?  Again, we don't know. And it could put  the US in a very very dangerous moment.  Nomia, thank you. Well, let's get the  picture then from Jerusalem. Our  correspondent, Hugo Bichega, is there on  the ground, Hugo, how will these words  have been received and what's the latest  on the conflict from that perspective?  Yeah, Dina. So, Israel has continued to  attack Iran. The military said more than  50 planes hit about 20 targets across  Tehran overnight, including weapons  production facilities. And on the ground  in Iran, we've seen those those huge  traffic jams of residents trying to flee  uh the city uh Thran uh because of fears  of an escalation of this conflict.  Shortages of petrol and food are being  felt. Also some cash machines are not  working. So this is the impact on the  population there. Now in Israel, as  Caroline said, there was a wave of  attacks, two waves actually of Iranian  missile attacks overnight. Uh the  Iranians said they had used for the  first time a hypersonic missile, which  is a missile that is more difficult to  be intercepted by air defenses. But  there have been no reports of  casualties. And we're seeing that the  recent attacks haven't been as intense,  which is probably an indication of the  impact of these Israeli air strikes on  the Iranian military. And just moments  ago, the Israeli government announced  that some of the restrictions that had  been imposed because of the war are now  being eased. Uh there will be you know  limited gatherings are now being allowed  but crucially schools and uh the  airspace remain closed but this is an  indication that the Israeli authorities  believe that the threat coming from Iran  has diminished. Okay, Hugo in Jerusalem.  Thank you.\""
   ]
  },
  {
   "cell_type": "code",
   "execution_count": 10,
   "id": "62f09ab9",
   "metadata": {},
   "outputs": [],
   "source": [
    "import os\n",
    "import subprocess\n",
    "\n",
    "import os\n",
    "import subprocess\n",
    "\n",
    "def convert_to_wav(input_file, output_file, sample_rate=16000):\n",
    "    \"\"\"\n",
    "    Convert an audio or video file to WAV format with specified sample rate and mono channel.\n",
    "    \n",
    "    Args:\n",
    "        input_file (str): Path to the input audio or video file.\n",
    "        output_file (str): Path to the output WAV file.\n",
    "        sample_rate (int): Target sample rate (default: 16000 Hz).\n",
    "    \n",
    "    Raises:\n",
    "        subprocess.CalledProcessError: If ffmpeg conversion fails.\n",
    "        FileNotFoundError: If input file does not exist.\n",
    "    \"\"\"\n",
    "    # Validate input file\n",
    "    if not os.path.exists(input_file):\n",
    "        raise FileNotFoundError(f\"Input file {input_file} does not exist.\")\n",
    "    \n",
    "    # Determine file type based on extension\n",
    "    file_ext = os.path.splitext(input_file)[1].lower()\n",
    "    audio_extensions = ['.mp3', '.wav', '.m4a', '.flac', '.ogg', '.aac', '.wma']\n",
    "    video_extensions = ['.mp4', '.avi', '.mov', '.mkv']\n",
    "    \n",
    "    if file_ext not in audio_extensions + video_extensions:\n",
    "        raise ValueError(f\"Unsupported file format: {file_ext}. Supported formats: {', '.join(audio_extensions + video_extensions)}\")\n",
    "    \n",
    "    command = [\n",
    "        \"ffmpeg\",\n",
    "        \"-y\",  # Overwrite output file if it exists\n",
    "        \"-i\", input_file,\n",
    "        \"-ar\", str(sample_rate),  # Resample to 16kHz\n",
    "        \"-ac\", \"1\",               # Convert to mono channel\n",
    "        \"-acodec\", \"pcm_s16le\",   # WAV format\n",
    "        output_file\n",
    "    ]\n",
    "    \n",
    "    # For video files, add -vn to disable video stream\n",
    "    if file_ext in video_extensions:\n",
    "        command.insert(2, \"-vn\")  # Insert after \"-i\" to disable video\n",
    "    \n",
    "    try:\n",
    "        subprocess.run(command, check=True, stdout=subprocess.PIPE, stderr=subprocess.PIPE)\n",
    "    except subprocess.CalledProcessError as e:\n",
    "        error_msg = f\"ffmpeg conversion failed: {e.stderr.decode()}\"\n",
    "        raise RuntimeError(error_msg)\n",
    "    except FileNotFoundError:\n",
    "        raise RuntimeError(\"ffmpeg is not installed or not found in system PATH. Install ffmpeg and add it to PATH.\")\n",
    "\n",
    "# Example usage\n",
    "try:\n",
    "    # for audio\n",
    "    # convert_to_wav(\"../data/raw/sample2.mp3\", \"../data/raw/sample2.wav\")\n",
    "    # Example with video\n",
    "    convert_to_wav(\"../data/raw/nepali.mp4\", \"../data/raw/nepali.wav\")\n",
    "except Exception as e:\n",
    "    print(f\"Error: {e}\")"
   ]
  },
  {
   "cell_type": "code",
   "execution_count": 11,
   "id": "f5bbfb51",
   "metadata": {},
   "outputs": [
    {
     "name": "stdout",
     "output_type": "stream",
     "text": [
      "Saved denoised audio to: ../data/cleaned/nepali_denoised.wav\n"
     ]
    }
   ],
   "source": [
    "import noisereduce as nr\n",
    "import librosa\n",
    "import soundfile as sf\n",
    "\n",
    "def denoise_audio(input_path, output_path):\n",
    "    # Load audio\n",
    "    y, sr = librosa.load(input_path, sr=None)\n",
    "    \n",
    "    # Estimate noise from the first 0.5 second (adjust if needed)\n",
    "    noise_sample = y[:int(sr * 0.5)]\n",
    "    \n",
    "    # Reduce noise\n",
    "    reduced_noise = nr.reduce_noise(y=y, sr=sr, y_noise=noise_sample)\n",
    "    \n",
    "    # Save to new file\n",
    "    sf.write(output_path, reduced_noise, sr)\n",
    "    print(f\"Saved denoised audio to: {output_path}\")\n",
    "    \n",
    "# Example usage\n",
    "denoise_audio(\"../data/raw/nepali.wav\", \"../data/cleaned/nepali_denoised.wav\")"
   ]
  },
  {
   "cell_type": "code",
   "execution_count": null,
   "id": "663b8c06",
   "metadata": {},
   "outputs": [
    {
     "name": "stderr",
     "output_type": "stream",
     "text": [
      "`generation_config` default values have been modified to match model-specific defaults: {'begin_suppress_tokens': [220, 50256]}. If this is not desired, please set these values explicitly.\n",
      "The attention mask is not set and cannot be inferred from input because pad token is same as eos token. As a consequence, you may observe unexpected behavior. Please pass your input's `attention_mask` to obtain reliable results.\n",
      "A custom logits processor of type <class 'transformers.generation.logits_process.SuppressTokensAtBeginLogitsProcessor'> has been passed to `.generate()`, but it was also created in `.generate()`, given its parameterization. The custom <class 'transformers.generation.logits_process.SuppressTokensAtBeginLogitsProcessor'> will take precedence. Please check the docstring of <class 'transformers.generation.logits_process.SuppressTokensAtBeginLogitsProcessor'> to see related `.generate()` flags.\n"
     ]
    },
    {
     "name": "stdout",
     "output_type": "stream",
     "text": [
      "Chunk 1/14: Iran's supreme leader Ayatollah Ali Khamenei has warned Washington of \"irreparable consequences\" if the U.S. becomes directly involved in Israel's military campaign against Tehran. It is understood that President Trump is considering joining the attacks on Iran's nuclear sites. Here's our diplomatic correspondent Caroline Hawley.\n",
      "Chunk 2/14: These satellite images show a military base in Tabriz in the northwest of the country, here before.\n",
      "Chunk 3/14: Now a defiant response from Ayatollah Ali Khamenei (his words read out by a presenter on state-run TV). Iranian president\n",
      "Chunk 4/14: For civilians in Tehran, these are \"terrifying times\", \"shops shut\", \"quiet streets\" many people are held up at home, hiding, we're told, in basements and garages many others have already fled the capital, among them Nagis Muhammadi, winner of the Nobel Peace Prize, who spent many years in prison for his death\n",
      "Chunk 5/14: The Hiren is still firing at Israel but not at the same rate as before.\n",
      "Chunk 6/14: But not at the same rate as before: overnight missiles were intercepted over Tel Aviv, some limited damage reported, but no more casualties. In Cyprus two repatriation flights were laid on to bring Israeli stranded abroad back home, nobody knows how long the war will go on or how it might escalate or end, and so many Iranians and foreign nationals are escaping Iran if they can (this the border with Pakistan), but many others are trying to get\n",
      "Chunk 7/14: \"But many others are trapped where they are, everyone afraid of what could come next.\" - Caroline Hoarded, BBC News\n",
      "Chunk 8/14: While the world is waiting to see what President Trump will do next (we've not had any reaction from the White House so far, there's been no flurry of social media posts on him like we saw yesterday, although that could happen at any moment), there are reports that the US is leading towards involvement rather than diplomacy, and that would involve sending US troops to the region to use those bunker-buster bombs to destroy Iran's nuclear capabilities deep underground. Make no mistake, if that is what the US does, each\n",
      "Chunk 9/14: This is a profoundly defining moment of Trump's presidency. Seismic. This is a man who has long campaigned for no foreign wars, attacked Barack Obama, accusing him of trying to start a war with Iran, and only back in May said in Saudi Arabia that the era of foreign intervention was over, so lots of his supporters will be saying, \"What happened to that man? Could there be regime change?\" Well, Donald Trump also said yesterday the threat to potentially kill the supreme leader, so \"we just\n",
      "Chunk 10/14: Nomia, thank you. Well, let's get the picture then from Jerusalem. Our correspondent, Hugo Bichega, is there on the ground. Hugo, how will these words have been received and what's the latest on the conflict from that perspective?\n",
      "Chunk 11/14: Yes, you know, so Israel has continued to attack Iran. The military said more than 50 planes hit about twenty targets across Tehran overnight, including weapons production facilities, and on the ground in Iran we're seeing those huge traffic jams of residents trying to flee the city, Tehran, because of fears of an escalation of this conflict, shortages of petrol and food are being filed, also some cash machines\n",
      "Chunk 12/14: The Iranian\n",
      "Chunk 13/14: Okay, Hugo, in Jerusalem, thank you.\n",
      "Chunk 14/14: \"Thank you.\"\n",
      "\n",
      "📝 Full Transcription:\n",
      " Iran's supreme leader Ayatollah Ali Khamenei has warned Washington of \"irreparable consequences\" if the U.S. becomes directly involved in Israel's military campaign against Tehran. It is understood that President Trump is considering joining the attacks on Iran's nuclear sites. Here's our diplomatic correspondent Caroline Hawley. These satellite images show a military base in Tabriz in the northwest of the country, here before. Now a defiant response from Ayatollah Ali Khamenei (his words read out by a presenter on state-run TV). Iranian president For civilians in Tehran, these are \"terrifying times\", \"shops shut\", \"quiet streets\" many people are held up at home, hiding, we're told, in basements and garages many others have already fled the capital, among them Nagis Muhammadi, winner of the Nobel Peace Prize, who spent many years in prison for his death The Hiren is still firing at Israel but not at the same rate as before. But not at the same rate as before: overnight missiles were intercepted over Tel Aviv, some limited damage reported, but no more casualties. In Cyprus two repatriation flights were laid on to bring Israeli stranded abroad back home, nobody knows how long the war will go on or how it might escalate or end, and so many Iranians and foreign nationals are escaping Iran if they can (this the border with Pakistan), but many others are trying to get \"But many others are trapped where they are, everyone afraid of what could come next.\" - Caroline Hoarded, BBC News While the world is waiting to see what President Trump will do next (we've not had any reaction from the White House so far, there's been no flurry of social media posts on him like we saw yesterday, although that could happen at any moment), there are reports that the US is leading towards involvement rather than diplomacy, and that would involve sending US troops to the region to use those bunker-buster bombs to destroy Iran's nuclear capabilities deep underground. Make no mistake, if that is what the US does, each This is a profoundly defining moment of Trump's presidency. Seismic. This is a man who has long campaigned for no foreign wars, attacked Barack Obama, accusing him of trying to start a war with Iran, and only back in May said in Saudi Arabia that the era of foreign intervention was over, so lots of his supporters will be saying, \"What happened to that man? Could there be regime change?\" Well, Donald Trump also said yesterday the threat to potentially kill the supreme leader, so \"we just Nomia, thank you. Well, let's get the picture then from Jerusalem. Our correspondent, Hugo Bichega, is there on the ground. Hugo, how will these words have been received and what's the latest on the conflict from that perspective? Yes, you know, so Israel has continued to attack Iran. The military said more than 50 planes hit about twenty targets across Tehran overnight, including weapons production facilities, and on the ground in Iran we're seeing those huge traffic jams of residents trying to flee the city, Tehran, because of fears of an escalation of this conflict, shortages of petrol and food are being filed, also some cash machines The Iranian Okay, Hugo, in Jerusalem, thank you. \"Thank you.\"\n"
     ]
    }
   ],
   "source": [
    "# Path to your audio file\n",
    "file_path = \"../data/cleaned/sample2_denoised.wav\"  # update this path accordingly\n",
    "\n",
    "chunks = load_audio_chunks(file_path, chunk_duration=30, overlap=1.5)\n",
    "\n",
    "# Transcribe all chunks\n",
    "final_text = transcribe_chunks(chunks)\n",
    "print(\"\\n📝 Full Transcription:\\n\", final_text)"
   ]
  },
  {
   "cell_type": "code",
   "execution_count": 12,
   "id": "94ceeb1a",
   "metadata": {},
   "outputs": [
    {
     "name": "stdout",
     "output_type": "stream",
     "text": [
      "Word Error Rate (WER): 0.5864\n"
     ]
    }
   ],
   "source": [
    "# calculate WER\n",
    "import jiwer\n",
    "def calculate_wer(reference, hypothesis):\n",
    "    return jiwer.wer(reference, hypothesis)\n",
    "# Example usage\n",
    "reference_text = transcript  # The original text\n",
    "hypothesis_text = final_text  # The transcribed text\n",
    "wer = calculate_wer(reference_text, hypothesis_text)\n",
    "print(f\"Word Error Rate (WER): {wer:.4f}\")"
   ]
  },
  {
   "cell_type": "code",
   "execution_count": 6,
   "id": "24fbe449",
   "metadata": {},
   "outputs": [
    {
     "name": "stderr",
     "output_type": "stream",
     "text": [
      "c:\\Users\\adabh\\OneDrive\\Desktop\\projects\\speechbridge\\.venv\\lib\\site-packages\\huggingface_hub\\file_download.py:143: UserWarning: `huggingface_hub` cache-system uses symlinks by default to efficiently store duplicated files but your machine does not support them in C:\\Users\\adabh\\.cache\\huggingface\\hub\\models--amitpant7--Nepali-Automatic-Speech-Recognition. Caching files will still work but in a degraded version that might require more space on your disk. This warning can be disabled by setting the `HF_HUB_DISABLE_SYMLINKS_WARNING` environment variable. For more details, see https://huggingface.co/docs/huggingface_hub/how-to-cache#limitations.\n",
      "To support symlinks on Windows, you either need to activate Developer Mode or to run Python as an administrator. In order to activate developer mode, see this article: https://docs.microsoft.com/en-us/windows/apps/get-started/enable-your-device-for-development\n",
      "  warnings.warn(message)\n",
      "Xet Storage is enabled for this repo, but the 'hf_xet' package is not installed. Falling back to regular HTTP download. For better performance, install the package with: `pip install huggingface_hub[hf_xet]` or `pip install hf_xet`\n"
     ]
    }
   ],
   "source": [
    "# for nepali language transcription\n",
    "from transformers import AutoProcessor, AutoModelForSpeechSeq2Seq\n",
    "\n",
    "processor = AutoProcessor.from_pretrained(\"amitpant7/Nepali-Automatic-Speech-Recognition\")\n",
    "model = AutoModelForSpeechSeq2Seq.from_pretrained(\"amitpant7/Nepali-Automatic-Speech-Recognition\")"
   ]
  },
  {
   "cell_type": "code",
   "execution_count": 12,
   "id": "115b5e0b",
   "metadata": {},
   "outputs": [
    {
     "name": "stdout",
     "output_type": "stream",
     "text": [
      "Chunk 1/1: आज कणाली गण्टकी बाग्मती मदेश र कुषि प्रदेशमा आम्शिक बद्नि रही बाकी बुवाव मौसम सावनीतय सकानी र हनी मौसम्बितको भनाइ राती बने कोषी मदेश बाग्मति र कणाली प्रदेश माम्शिक बद्नि रही कदानी प्रसाको सम्भादी तयसमाने र हनी मौसम्बितको भनाइ राती बने कोसी मदेश बाग्मति र कणाली प्रदेश माम्चिको आम्म्शिक बद्दिरही कदानी प्यो तलका बसाको सम्ब्भाग्ना\n",
      "\n",
      "📝 Full Transcription:\n",
      " आज कणाली गण्टकी बाग्मती मदेश र कुषि प्रदेशमा आम्शिक बद्नि रही बाकी बुवाव मौसम सावनीतय सकानी र हनी मौसम्बितको भनाइ राती बने कोषी मदेश बाग्मति र कणाली प्रदेश माम्शिक बद्नि रही कदानी प्रसाको सम्भादी तयसमाने र हनी मौसम्बितको भनाइ राती बने कोसी मदेश बाग्मति र कणाली प्रदेश माम्चिको आम्म्शिक बद्दिरही कदानी प्यो तलका बसाको सम्ब्भाग्ना\n"
     ]
    }
   ],
   "source": [
    "# Path to your audio file\n",
    "file_path = \"../data/cleaned/nepali_denoised.wav\"  # update this path accordingly\n",
    "\n",
    "chunks = load_audio_chunks(file_path, chunk_duration=30, overlap=1.5)\n",
    "\n",
    "# Transcribe all chunks\n",
    "final_text = transcribe_chunks(chunks)\n",
    "print(\"\\n📝 Full Transcription:\\n\", final_text)"
   ]
  },
  {
   "cell_type": "code",
   "execution_count": 13,
   "id": "c6914c14",
   "metadata": {},
   "outputs": [],
   "source": [
    "nepali_transcript = \" आज कर्णाली गण्डकी बागमती मदेश र कोशी प्रदेशमा आंशिक बदली रही बाकि भूभागमा मौसम सामान्यतः सफानै रहने मौसंबिद्को भनाइ राती भने कोशी मदेश बागमती र कर्णाली प्रदेशमा मौसम आंशिक बदली रही कर्णाली प्रदेशको पहाडी एक दुइ ठाउमा  मेघ गर्जन र चत्यंग सहित हल्का बर्सा को सम्भाभाना ।  \""
   ]
  },
  {
   "cell_type": "code",
   "execution_count": 15,
   "id": "3bb1a65d",
   "metadata": {},
   "outputs": [
    {
     "name": "stdout",
     "output_type": "stream",
     "text": [
      "Word Error Rate (WER): 0.9362\n"
     ]
    }
   ],
   "source": [
    "# calculate WER for nepali\n",
    "import jiwer\n",
    "def calculate_wer(reference, hypothesis):\n",
    "    return jiwer.wer(reference, hypothesis)\n",
    "# Example usage\n",
    "reference_text = nepali_transcript  # The original text\n",
    "hypothesis_text = final_text  # The transcribed text\n",
    "wer = calculate_wer(reference_text, hypothesis_text)\n",
    "print(f\"Word Error Rate (WER): {wer:.4f}\")"
   ]
  },
  {
   "cell_type": "code",
   "execution_count": null,
   "id": "6336f4fc",
   "metadata": {},
   "outputs": [],
   "source": []
  }
 ],
 "metadata": {
  "kernelspec": {
   "display_name": ".venv",
   "language": "python",
   "name": "python3"
  },
  "language_info": {
   "codemirror_mode": {
    "name": "ipython",
    "version": 3
   },
   "file_extension": ".py",
   "mimetype": "text/x-python",
   "name": "python",
   "nbconvert_exporter": "python",
   "pygments_lexer": "ipython3",
   "version": "3.9.0"
  }
 },
 "nbformat": 4,
 "nbformat_minor": 5
}
