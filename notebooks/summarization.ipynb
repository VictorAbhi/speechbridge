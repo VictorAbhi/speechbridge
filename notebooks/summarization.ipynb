{
 "cells": [
  {
   "cell_type": "code",
   "execution_count": 2,
   "id": "c8f84e45",
   "metadata": {},
   "outputs": [
    {
     "name": "stderr",
     "output_type": "stream",
     "text": [
      "c:\\Users\\adabh\\Documents\\projects\\speechbridge\\.venv\\lib\\site-packages\\huggingface_hub\\file_download.py:143: UserWarning: `huggingface_hub` cache-system uses symlinks by default to efficiently store duplicated files but your machine does not support them in C:\\Users\\adabh\\.cache\\huggingface\\hub\\models--facebook--bart-large-cnn. Caching files will still work but in a degraded version that might require more space on your disk. This warning can be disabled by setting the `HF_HUB_DISABLE_SYMLINKS_WARNING` environment variable. For more details, see https://huggingface.co/docs/huggingface_hub/how-to-cache#limitations.\n",
      "To support symlinks on Windows, you either need to activate Developer Mode or to run Python as an administrator. In order to activate developer mode, see this article: https://docs.microsoft.com/en-us/windows/apps/get-started/enable-your-device-for-development\n",
      "  warnings.warn(message)\n",
      "Xet Storage is enabled for this repo, but the 'hf_xet' package is not installed. Falling back to regular HTTP download. For better performance, install the package with: `pip install huggingface_hub[hf_xet]` or `pip install hf_xet`\n",
      "Device set to use cpu\n",
      "[nltk_data] Downloading package punkt to\n",
      "[nltk_data]     C:\\Users\\adabh\\AppData\\Roaming\\nltk_data...\n",
      "[nltk_data]   Package punkt is already up-to-date!\n",
      "Your max_length is set to 150, but your input_length is only 108. Since this is a summarization task, where outputs shorter than the input are typically wanted, you might consider decreasing max_length manually, e.g. summarizer('...', max_length=54)\n"
     ]
    },
    {
     "name": "stdout",
     "output_type": "stream",
     "text": [
      "Summary:\n",
      " Ayatollah Ali Khamenei warns of \"irreparable consequences\" if the U.S. becomes directly involved in Israel's military campaign against Tehran. It is understood that President Trump is considering joining the attacks on Iran's nuclear sites. Overnight missiles were intercepted over Tel Aviv, some limited damage reported, but no more casualties. In Cyprus two repatriation flights were laid on to bring Israeli stranded abroad back home. Nobody knows how long the war will go on or how it might escalate or end, and so many Iranians and foreign nationals are escaping Iran if they can. There are reports that the US is leading towards involvement rather than diplomacy. That would involve sending US troops to the region to use bunker-buster bombs. This is a profoundly defining moment of Trump's presidency, says Caroline Hoarded. Israel has continued to attack Iran. The military said more than 50 planes hit about twenty targets across Tehran overnight. On the ground in Iran we're seeing those huge traffic jams of residents trying to flee the city.\n"
     ]
    }
   ],
   "source": [
    "from transformers import pipeline\n",
    "import nltk\n",
    "# Load summarization pipeline\n",
    "summarizer = pipeline(\"summarization\", model=\"facebook/bart-large-cnn\")\n",
    "\n",
    "# Your transcript (long text from Whisper)\n",
    "transcript = \"\"\"\n",
    "Iran's supreme leader Ayatollah Ali Khamenei has warned Washington of \"irreparable consequences\" if the U.S. becomes directly involved in Israel's military campaign against Tehran. It is understood that President Trump is considering joining the attacks on Iran's nuclear sites. Here's our diplomatic correspondent Caroline Hawley. These satellite images show a military base in Tabriz in the northwest of the country, here before. Now a defiant response from Ayatollah Ali Khamenei (his words read out by a presenter on state-run TV). Iranian president For civilians in Tehran, these are \"terrifying times\", \"shops shut\", \"quiet streets\" many people are held up at home, hiding, we're told, in basements and garages many others have already fled the capital, among them Nagis Muhammadi, winner of the Nobel Peace Prize, who spent many years in prison for his death The Hiren is still firing at Israel but not at the same rate as before. But not at the same rate as before: overnight missiles were intercepted over Tel Aviv, some limited damage reported, but no more casualties. In Cyprus two repatriation flights were laid on to bring Israeli stranded abroad back home, nobody knows how long the war will go on or how it might escalate or end, and so many Iranians and foreign nationals are escaping Iran if they can (this the border with Pakistan), but many others are trying to get \"But many others are trapped where they are, everyone afraid of what could come next.\" - Caroline Hoarded, BBC News While the world is waiting to see what President Trump will do next (we've not had any reaction from the White House so far, there's been no flurry of social media posts on him like we saw yesterday, although that could happen at any moment), there are reports that the US is leading towards involvement rather than diplomacy, and that would involve sending US troops to the region to use those bunker-buster bombs to destroy Iran's nuclear capabilities deep underground. Make no mistake, if that is what the US does, each This is a profoundly defining moment of Trump's presidency. Seismic. This is a man who has long campaigned for no foreign wars, attacked Barack Obama, accusing him of trying to start a war with Iran, and only back in May said in Saudi Arabia that the era of foreign intervention was over, so lots of his supporters will be saying, \"What happened to that man? Could there be regime change?\" Well, Donald Trump also said yesterday the threat to potentially kill the supreme leader, so \"we just Nomia, thank you. Well, let's get the picture then from Jerusalem. Our correspondent, Hugo Bichega, is there on the ground. Hugo, how will these words have been received and what's the latest on the conflict from that perspective? Yes, you know, so Israel has continued to attack Iran. The military said more than 50 planes hit about twenty targets across Tehran overnight, including weapons production facilities, and on the ground in Iran we're seeing those huge traffic jams of residents trying to flee the city, Tehran, because of fears of an escalation of this conflict, shortages of petrol and food are being filed, also some cash machines The Iranian Okay, Hugo, in Jerusalem, thank you. \"Thank you.\n",
    "\"\"\"\n",
    "\n",
    "# Split text if longer than model's token limit (~1024 tokens)\n",
    "def chunk_text(text, max_tokens=1024):\n",
    "    nltk.download('punkt')\n",
    "    from nltk.tokenize import sent_tokenize\n",
    "\n",
    "    sentences = sent_tokenize(text)\n",
    "    chunks = []\n",
    "    chunk = \"\"\n",
    "    for sentence in sentences:\n",
    "        if len(chunk) + len(sentence) <= max_tokens:\n",
    "            chunk += \" \" + sentence\n",
    "        else:\n",
    "            chunks.append(chunk.strip())\n",
    "            chunk = sentence\n",
    "    chunks.append(chunk.strip())\n",
    "    return chunks\n",
    "\n",
    "chunks = chunk_text(transcript)\n",
    "\n",
    "# Summarize each chunk\n",
    "summaries = []\n",
    "for i, chunk in enumerate(chunks):\n",
    "    summary = summarizer(chunk, max_length=150, min_length=40, do_sample=False)[0]['summary_text']\n",
    "    summaries.append(summary)\n",
    "\n",
    "# Combine summaries\n",
    "final_summary = \" \".join(summaries)\n",
    "print(\"Summary:\\n\", final_summary)\n"
   ]
  },
  {
   "cell_type": "code",
   "execution_count": 1,
   "id": "73919131",
   "metadata": {},
   "outputs": [
    {
     "name": "stderr",
     "output_type": "stream",
     "text": [
      "c:\\Users\\adabh\\Documents\\projects\\speechbridge\\.venv\\lib\\site-packages\\tqdm\\auto.py:21: TqdmWarning: IProgress not found. Please update jupyter and ipywidgets. See https://ipywidgets.readthedocs.io/en/stable/user_install.html\n",
      "  from .autonotebook import tqdm as notebook_tqdm\n",
      "[nltk_data] Downloading package punkt to\n",
      "[nltk_data]     C:\\Users\\adabh\\AppData\\Roaming\\nltk_data...\n",
      "[nltk_data]   Package punkt is already up-to-date!\n",
      "c:\\Users\\adabh\\Documents\\projects\\speechbridge\\.venv\\lib\\site-packages\\huggingface_hub\\file_download.py:143: UserWarning: `huggingface_hub` cache-system uses symlinks by default to efficiently store duplicated files but your machine does not support them in C:\\Users\\adabh\\.cache\\huggingface\\hub\\models--t5-base. Caching files will still work but in a degraded version that might require more space on your disk. This warning can be disabled by setting the `HF_HUB_DISABLE_SYMLINKS_WARNING` environment variable. For more details, see https://huggingface.co/docs/huggingface_hub/how-to-cache#limitations.\n",
      "To support symlinks on Windows, you either need to activate Developer Mode or to run Python as an administrator. In order to activate developer mode, see this article: https://docs.microsoft.com/en-us/windows/apps/get-started/enable-your-device-for-development\n",
      "  warnings.warn(message)\n",
      "You are using the default legacy behaviour of the <class 'transformers.models.t5.tokenization_t5.T5Tokenizer'>. This is expected, and simply means that the `legacy` (previous) behavior will be used so nothing changes for you. If you want to use the new behaviour, set `legacy=False`. This should only be set if you understand what it means, and thoroughly read the reason why this was added as explained in https://github.com/huggingface/transformers/pull/24565\n",
      "Xet Storage is enabled for this repo, but the 'hf_xet' package is not installed. Falling back to regular HTTP download. For better performance, install the package with: `pip install huggingface_hub[hf_xet]` or `pip install hf_xet`\n"
     ]
    },
    {
     "name": "stdout",
     "output_type": "stream",
     "text": [
      "Final Summary:\n",
      " ayatollah Ali Khamenei warns of \"irreparable consequences\" if the u.s. joins the attacks on Iran's nuclear sites . the hiren is still firing at Israel but not at the same rate as before . if that is what the u.s. does, each would send troops to destroy Iran's nuclear capabilities . the military says more than 50 planes hit about twenty targets across Tehran overnight . on the ground in Iran we're seeing those huge traffic jams of residents trying to flee the city .\n"
     ]
    }
   ],
   "source": [
    "from transformers import T5Tokenizer, T5ForConditionalGeneration\n",
    "import torch\n",
    "import nltk\n",
    "\n",
    "# Download NLTK tokenizer\n",
    "nltk.download('punkt')\n",
    "from nltk.tokenize import sent_tokenize\n",
    "\n",
    "# Load T5-base model and tokenizer\n",
    "tokenizer = T5Tokenizer.from_pretrained(\"t5-base\")\n",
    "model = T5ForConditionalGeneration.from_pretrained(\"t5-base\")\n",
    "\n",
    "# Function to chunk text\n",
    "def chunk_text(text, max_words=500):\n",
    "    sentences = sent_tokenize(text)\n",
    "    chunks, chunk = [], \"\"\n",
    "    for sentence in sentences:\n",
    "        if len(chunk.split()) + len(sentence.split()) <= max_words:\n",
    "            chunk += \" \" + sentence\n",
    "        else:\n",
    "            chunks.append(chunk.strip())\n",
    "            chunk = sentence\n",
    "    chunks.append(chunk.strip())\n",
    "    return chunks\n",
    "\n",
    "# Function to summarize one chunk\n",
    "def summarize_t5(text, max_len=120, min_len=30):\n",
    "    input_text = \"summarize: \" + text.strip().replace(\"\\n\", \" \")\n",
    "    input_ids = tokenizer.encode(input_text, return_tensors=\"pt\", max_length=512, truncation=True)\n",
    "    summary_ids = model.generate(input_ids, max_length=max_len, min_length=min_len, length_penalty=2.0, num_beams=4, early_stopping=True)\n",
    "    return tokenizer.decode(summary_ids[0], skip_special_tokens=True)\n",
    "\n",
    "# === RUN PIPELINE ===\n",
    "\n",
    "# Replace with your Whisper transcript\n",
    "transcript = \"\"\"\n",
    "Iran's supreme leader Ayatollah Ali Khamenei has warned Washington of \"irreparable consequences\" if the U.S. becomes directly involved in Israel's military campaign against Tehran. It is understood that President Trump is considering joining the attacks on Iran's nuclear sites. Here's our diplomatic correspondent Caroline Hawley. These satellite images show a military base in Tabriz in the northwest of the country, here before. Now a defiant response from Ayatollah Ali Khamenei (his words read out by a presenter on state-run TV). Iranian president For civilians in Tehran, these are \"terrifying times\", \"shops shut\", \"quiet streets\" many people are held up at home, hiding, we're told, in basements and garages many others have already fled the capital, among them Nagis Muhammadi, winner of the Nobel Peace Prize, who spent many years in prison for his death The Hiren is still firing at Israel but not at the same rate as before. But not at the same rate as before: overnight missiles were intercepted over Tel Aviv, some limited damage reported, but no more casualties. In Cyprus two repatriation flights were laid on to bring Israeli stranded abroad back home, nobody knows how long the war will go on or how it might escalate or end, and so many Iranians and foreign nationals are escaping Iran if they can (this the border with Pakistan), but many others are trying to get \"But many others are trapped where they are, everyone afraid of what could come next.\" - Caroline Hoarded, BBC News While the world is waiting to see what President Trump will do next (we've not had any reaction from the White House so far, there's been no flurry of social media posts on him like we saw yesterday, although that could happen at any moment), there are reports that the US is leading towards involvement rather than diplomacy, and that would involve sending US troops to the region to use those bunker-buster bombs to destroy Iran's nuclear capabilities deep underground. Make no mistake, if that is what the US does, each This is a profoundly defining moment of Trump's presidency. Seismic. This is a man who has long campaigned for no foreign wars, attacked Barack Obama, accusing him of trying to start a war with Iran, and only back in May said in Saudi Arabia that the era of foreign intervention was over, so lots of his supporters will be saying, \"What happened to that man? Could there be regime change?\" Well, Donald Trump also said yesterday the threat to potentially kill the supreme leader, so \"we just Nomia, thank you. Well, let's get the picture then from Jerusalem. Our correspondent, Hugo Bichega, is there on the ground. Hugo, how will these words have been received and what's the latest on the conflict from that perspective? Yes, you know, so Israel has continued to attack Iran. The military said more than 50 planes hit about twenty targets across Tehran overnight, including weapons production facilities, and on the ground in Iran we're seeing those huge traffic jams of residents trying to flee the city, Tehran, because of fears of an escalation of this conflict, shortages of petrol and food are being filed, also some cash machines The Iranian Okay, Hugo, in Jerusalem, thank you. \"Thank you.\n",
    "\"\"\"\n",
    "\n",
    "chunks = chunk_text(transcript)\n",
    "summaries = [summarize_t5(chunk) for chunk in chunks]\n",
    "final_summary = \" \".join(summaries)\n",
    "\n",
    "print(\"Final Summary:\\n\", final_summary)\n"
   ]
  },
  {
   "cell_type": "code",
   "execution_count": 2,
   "id": "04f198fb",
   "metadata": {},
   "outputs": [
    {
     "name": "stderr",
     "output_type": "stream",
     "text": [
      "[nltk_data] Downloading package punkt to\n",
      "[nltk_data]     C:\\Users\\adabh\\AppData\\Roaming\\nltk_data...\n",
      "[nltk_data]   Package punkt is already up-to-date!\n",
      "c:\\Users\\adabh\\Documents\\projects\\speechbridge\\.venv\\lib\\site-packages\\huggingface_hub\\file_download.py:143: UserWarning: `huggingface_hub` cache-system uses symlinks by default to efficiently store duplicated files but your machine does not support them in C:\\Users\\adabh\\.cache\\huggingface\\hub\\models--sshleifer--distilbart-cnn-12-6. Caching files will still work but in a degraded version that might require more space on your disk. This warning can be disabled by setting the `HF_HUB_DISABLE_SYMLINKS_WARNING` environment variable. For more details, see https://huggingface.co/docs/huggingface_hub/how-to-cache#limitations.\n",
      "To support symlinks on Windows, you either need to activate Developer Mode or to run Python as an administrator. In order to activate developer mode, see this article: https://docs.microsoft.com/en-us/windows/apps/get-started/enable-your-device-for-development\n",
      "  warnings.warn(message)\n",
      "Device set to use cpu\n"
     ]
    },
    {
     "name": "stdout",
     "output_type": "stream",
     "text": [
      "Summarizing chunk 1/2...\n",
      "Summarizing chunk 2/2...\n",
      "\n",
      " Final Summary:\n",
      "\n",
      " Iran's supreme leader Ayatollah Ali Khamenei warns U.S. of 'irreparable consequences' Iran's Hiren missiles are still firing at Israel but not at the same rate as before . Civilians in Tehran are being held up at home, hiding in basements and garages .  There are reports that the US is leading towards involvement rather than diplomacy, and that would involve sending US troops to the region to use bunker-buster bombs to destroy Iran's nuclear capabilities deep underground . This is a profoundly defining moment of Trump's presidency, says Caroline Hoarded .\n"
     ]
    }
   ],
   "source": [
    "from transformers import pipeline\n",
    "import nltk\n",
    "\n",
    "# Download NLTK sentence tokenizer\n",
    "nltk.download(\"punkt\")\n",
    "from nltk.tokenize import sent_tokenize\n",
    "\n",
    "# Load fast summarizer model\n",
    "summarizer = pipeline(\"summarization\", model=\"sshleifer/distilbart-cnn-12-6\")\n",
    "\n",
    "# === Your input: long transcript ===\n",
    "transcript = \"\"\"\n",
    "Iran's supreme leader Ayatollah Ali Khamenei has warned Washington of \"irreparable consequences\" if the U.S. becomes directly involved in Israel's military campaign against Tehran. It is understood that President Trump is considering joining the attacks on Iran's nuclear sites. Here's our diplomatic correspondent Caroline Hawley. These satellite images show a military base in Tabriz in the northwest of the country, here before. Now a defiant response from Ayatollah Ali Khamenei (his words read out by a presenter on state-run TV). Iranian president For civilians in Tehran, these are \"terrifying times\", \"shops shut\", \"quiet streets\" many people are held up at home, hiding, we're told, in basements and garages many others have already fled the capital, among them Nagis Muhammadi, winner of the Nobel Peace Prize, who spent many years in prison for his death The Hiren is still firing at Israel but not at the same rate as before. But not at the same rate as before: overnight missiles were intercepted over Tel Aviv, some limited damage reported, but no more casualties. In Cyprus two repatriation flights were laid on to bring Israeli stranded abroad back home, nobody knows how long the war will go on or how it might escalate or end, and so many Iranians and foreign nationals are escaping Iran if they can (this the border with Pakistan), but many others are trying to get \"But many others are trapped where they are, everyone afraid of what could come next.\" - Caroline Hoarded, BBC News While the world is waiting to see what President Trump will do next (we've not had any reaction from the White House so far, there's been no flurry of social media posts on him like we saw yesterday, although that could happen at any moment), there are reports that the US is leading towards involvement rather than diplomacy, and that would involve sending US troops to the region to use those bunker-buster bombs to destroy Iran's nuclear capabilities deep underground. Make no mistake, if that is what the US does, each This is a profoundly defining moment of Trump's presidency. Seismic. This is a man who has long campaigned for no foreign wars, attacked Barack Obama, accusing him of trying to start a war with Iran, and only back in May said in Saudi Arabia that the era of foreign intervention was over, so lots of his supporters will be saying, \"What happened to that man? Could there be regime change?\" Well, Donald Trump also said yesterday the threat to potentially kill the supreme leader, so \"we just Nomia, thank you. Well, let's get the picture then from Jerusalem. Our correspondent, Hugo Bichega, is there on the ground. Hugo, how will these words have been received and what's the latest on the conflict from that perspective? Yes, you know, so Israel has continued to attack Iran. The military said more than 50 planes hit about twenty targets across Tehran overnight, including weapons production facilities, and on the ground in Iran we're seeing those huge traffic jams of residents trying to flee the city, Tehran, because of fears of an escalation of this conflict, shortages of petrol and food are being filed, also some cash machines The Iranian Okay, Hugo, in Jerusalem, thank you. \"Thank you.\n",
    "\"\"\"\n",
    "\n",
    "# === Function to split transcript into smaller chunks ===\n",
    "def chunk_text(text, max_words=300):\n",
    "    sentences = sent_tokenize(text)\n",
    "    chunks = []\n",
    "    chunk = \"\"\n",
    "    for sentence in sentences:\n",
    "        if len(chunk.split()) + len(sentence.split()) <= max_words:\n",
    "            chunk += \" \" + sentence\n",
    "        else:\n",
    "            chunks.append(chunk.strip())\n",
    "            chunk = sentence\n",
    "    if chunk:\n",
    "        chunks.append(chunk.strip())\n",
    "    return chunks\n",
    "\n",
    "# === Chunk the transcript ===\n",
    "chunks = chunk_text(transcript)\n",
    "\n",
    "# === Generate summary for each chunk ===\n",
    "summaries = []\n",
    "for i, chunk in enumerate(chunks):\n",
    "    print(f\"Summarizing chunk {i + 1}/{len(chunks)}...\")\n",
    "    summary = summarizer(\n",
    "        chunk,\n",
    "        max_length=100,  # Can reduce this for shorter summaries\n",
    "        min_length=30,\n",
    "        do_sample=False\n",
    "    )[0][\"summary_text\"]\n",
    "    summaries.append(summary)\n",
    "\n",
    "# === Combine summaries ===\n",
    "final_summary = \" \".join(summaries)\n",
    "\n",
    "# === Output ===\n",
    "print(\"\\n Final Summary:\\n\")\n",
    "print(final_summary)\n"
   ]
  },
  {
   "cell_type": "code",
   "execution_count": null,
   "id": "b333ea11",
   "metadata": {},
   "outputs": [],
   "source": []
  }
 ],
 "metadata": {
  "kernelspec": {
   "display_name": ".venv",
   "language": "python",
   "name": "python3"
  },
  "language_info": {
   "codemirror_mode": {
    "name": "ipython",
    "version": 3
   },
   "file_extension": ".py",
   "mimetype": "text/x-python",
   "name": "python",
   "nbconvert_exporter": "python",
   "pygments_lexer": "ipython3",
   "version": "3.9.10"
  }
 },
 "nbformat": 4,
 "nbformat_minor": 5
}
