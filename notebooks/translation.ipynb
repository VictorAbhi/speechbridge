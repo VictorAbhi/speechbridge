{
 "cells": [
  {
   "cell_type": "code",
   "execution_count": 1,
   "id": "6e9f3128",
   "metadata": {},
   "outputs": [
    {
     "name": "stderr",
     "output_type": "stream",
     "text": [
      "c:\\Users\\adabh\\Documents\\projects\\speechbridge\\.venv\\lib\\site-packages\\tqdm\\auto.py:21: TqdmWarning: IProgress not found. Please update jupyter and ipywidgets. See https://ipywidgets.readthedocs.io/en/stable/user_install.html\n",
      "  from .autonotebook import tqdm as notebook_tqdm\n"
     ]
    }
   ],
   "source": [
    "from transformers import MarianMTModel, MarianTokenizer"
   ]
  },
  {
   "cell_type": "code",
   "execution_count": 8,
   "id": "3f0b5f11",
   "metadata": {},
   "outputs": [
    {
     "name": "stderr",
     "output_type": "stream",
     "text": [
      "c:\\Users\\adabh\\Documents\\projects\\speechbridge\\.venv\\lib\\site-packages\\huggingface_hub\\file_download.py:143: UserWarning: `huggingface_hub` cache-system uses symlinks by default to efficiently store duplicated files but your machine does not support them in C:\\Users\\adabh\\.cache\\huggingface\\hub\\models--d2niraj555--mt5-eng2nep. Caching files will still work but in a degraded version that might require more space on your disk. This warning can be disabled by setting the `HF_HUB_DISABLE_SYMLINKS_WARNING` environment variable. For more details, see https://huggingface.co/docs/huggingface_hub/how-to-cache#limitations.\n",
      "To support symlinks on Windows, you either need to activate Developer Mode or to run Python as an administrator. In order to activate developer mode, see this article: https://docs.microsoft.com/en-us/windows/apps/get-started/enable-your-device-for-development\n",
      "  warnings.warn(message)\n",
      "You are using the default legacy behaviour of the <class 'transformers.models.t5.tokenization_t5.T5Tokenizer'>. This is expected, and simply means that the `legacy` (previous) behavior will be used so nothing changes for you. If you want to use the new behaviour, set `legacy=False`. This should only be set if you understand what it means, and thoroughly read the reason why this was added as explained in https://github.com/huggingface/transformers/pull/24565\n",
      "c:\\Users\\adabh\\Documents\\projects\\speechbridge\\.venv\\lib\\site-packages\\transformers\\convert_slow_tokenizer.py:564: UserWarning: The sentencepiece tokenizer that you are converting to a fast tokenizer uses the byte fallback option which is not implemented in the fast tokenizers. In practice this means that the fast version of the tokenizer can produce unknown tokens whereas the sentencepiece version would have converted these unknown tokens into a sequence of byte tokens matching the original piece of text.\n",
      "  warnings.warn(\n"
     ]
    }
   ],
   "source": [
    "# Load model directly\n",
    "from transformers import AutoTokenizer, AutoModelForSeq2SeqLM\n",
    "\n",
    "tokenizer = AutoTokenizer.from_pretrained(\"d2niraj555/mt5-eng2nep\")\n",
    "model = AutoModelForSeq2SeqLM.from_pretrained(\"d2niraj555/mt5-eng2nep\")"
   ]
  },
  {
   "cell_type": "code",
   "execution_count": 13,
   "id": "dd6d3e95",
   "metadata": {},
   "outputs": [],
   "source": [
    "english_text = \"\"\"\n",
    "All human beings are born free and equal in dignity and rights. They are endowed with reason and conscience and should act towards one another in a spirit of brotherhood.\"\"\""
   ]
  },
  {
   "cell_type": "code",
   "execution_count": 14,
   "id": "9f36a6b3",
   "metadata": {},
   "outputs": [
    {
     "name": "stdout",
     "output_type": "stream",
     "text": [
      "सबै मानिसहरू स्वतन्त्र र स्वतन्त्र हुन्छन्। तिनीहरू सत्य र निष्पक्ष हुन्छन्। तिनीहरू आफ्नो आज्ञा र विश्वासमा पूर्ण हुन्छन्। तिनीहरू एक अर्काको लागि आफ्नो कर्तव्य र अधिकारको भावनाले आफ्नो कर्तव्य पालन गर्नेछन्।\n"
     ]
    }
   ],
   "source": [
    "inputs = tokenizer(\n",
    "    [english_text],\n",
    "    return_tensors=\"pt\",\n",
    "    max_length=512,             # Cap input length\n",
    "    truncation=True,\n",
    "    padding=\"max_length\"        # Pad to max length for consistent shape\n",
    ")\n",
    "\n",
    "# Generate translation\n",
    "translated = model.generate(\n",
    "    **inputs,\n",
    "    max_length=128,             # Max tokens in translated output\n",
    "    num_beams=4,\n",
    "    early_stopping=True\n",
    ")\n",
    "\n",
    "# Decode\n",
    "nepali_translation = tokenizer.decode(translated[0], skip_special_tokens=True)\n",
    "print(nepali_translation)"
   ]
  },
  {
   "cell_type": "code",
   "execution_count": 15,
   "id": "0f65ea4b",
   "metadata": {},
   "outputs": [
    {
     "name": "stdout",
     "output_type": "stream",
     "text": [
      "BLEU score: 2.02\n"
     ]
    }
   ],
   "source": [
    "import sacrebleu\n",
    "\n",
    "# Example\n",
    "predictions = [\"सबै मानिसहरू स्वतन्त्र र स्वतन्त्र हुन्छन्। तिनीहरू सत्य र निष्पक्ष हुन्छन्। तिनीहरू आफ्नो आज्ञा र विश्वासमा पूर्ण हुन्छन्। तिनीहरू एक अर्काको लागि आफ्नो कर्तव्य र अधिकारको भावनाले आफ्नो कर्तव्य पालन गर्नेछन्।\"]\n",
    "references = [[\"सबै मानव प्राणीहरू स्वतन्त्र रूपमा जन्मिएका हुन् र उनीहरू सम्मान र अधिकारमा समान हुन्छन्। उनीहरूमा बुद्धि र विवेक हुन्छ, र उनीहरूले एक अर्काप्रति दाजुभाइको भावनाका साथ व्यवहार गर्नुपर्छ।\"]]  # Note: list of list\n",
    "\n",
    "# Compute BLEU\n",
    "bleu = sacrebleu.corpus_bleu(predictions, references)\n",
    "print(f\"BLEU score: {bleu.score:.2f}\")"
   ]
  },
  {
   "cell_type": "code",
   "execution_count": null,
   "id": "e5d678af",
   "metadata": {},
   "outputs": [],
   "source": []
  }
 ],
 "metadata": {
  "kernelspec": {
   "display_name": ".venv",
   "language": "python",
   "name": "python3"
  },
  "language_info": {
   "codemirror_mode": {
    "name": "ipython",
    "version": 3
   },
   "file_extension": ".py",
   "mimetype": "text/x-python",
   "name": "python",
   "nbconvert_exporter": "python",
   "pygments_lexer": "ipython3",
   "version": "3.9.10"
  }
 },
 "nbformat": 4,
 "nbformat_minor": 5
}
