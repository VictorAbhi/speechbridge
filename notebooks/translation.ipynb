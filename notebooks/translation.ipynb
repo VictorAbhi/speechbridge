{
 "cells": [
  {
   "cell_type": "code",
   "execution_count": 1,
   "id": "6e9f3128",
   "metadata": {},
   "outputs": [
    {
     "name": "stderr",
     "output_type": "stream",
     "text": [
      "c:\\Users\\adabh\\Documents\\projects\\speechbridge\\.venv\\lib\\site-packages\\tqdm\\auto.py:21: TqdmWarning: IProgress not found. Please update jupyter and ipywidgets. See https://ipywidgets.readthedocs.io/en/stable/user_install.html\n",
      "  from .autonotebook import tqdm as notebook_tqdm\n"
     ]
    }
   ],
   "source": [
    "from transformers import MarianMTModel, MarianTokenizer"
   ]
  },
  {
   "cell_type": "code",
   "execution_count": 2,
   "id": "3f0b5f11",
   "metadata": {},
   "outputs": [
    {
     "name": "stderr",
     "output_type": "stream",
     "text": [
      "c:\\Users\\adabh\\Documents\\projects\\speechbridge\\.venv\\lib\\site-packages\\huggingface_hub\\file_download.py:143: UserWarning: `huggingface_hub` cache-system uses symlinks by default to efficiently store duplicated files but your machine does not support them in C:\\Users\\adabh\\.cache\\huggingface\\hub\\models--facebook--nllb-200-distilled-600M. Caching files will still work but in a degraded version that might require more space on your disk. This warning can be disabled by setting the `HF_HUB_DISABLE_SYMLINKS_WARNING` environment variable. For more details, see https://huggingface.co/docs/huggingface_hub/how-to-cache#limitations.\n",
      "To support symlinks on Windows, you either need to activate Developer Mode or to run Python as an administrator. In order to activate developer mode, see this article: https://docs.microsoft.com/en-us/windows/apps/get-started/enable-your-device-for-development\n",
      "  warnings.warn(message)\n",
      "Xet Storage is enabled for this repo, but the 'hf_xet' package is not installed. Falling back to regular HTTP download. For better performance, install the package with: `pip install huggingface_hub[hf_xet]` or `pip install hf_xet`\n",
      "Xet Storage is enabled for this repo, but the 'hf_xet' package is not installed. Falling back to regular HTTP download. For better performance, install the package with: `pip install huggingface_hub[hf_xet]` or `pip install hf_xet`\n",
      "Xet Storage is enabled for this repo, but the 'hf_xet' package is not installed. Falling back to regular HTTP download. For better performance, install the package with: `pip install huggingface_hub[hf_xet]` or `pip install hf_xet`\n",
      "Xet Storage is enabled for this repo, but the 'hf_xet' package is not installed. Falling back to regular HTTP download. For better performance, install the package with: `pip install huggingface_hub[hf_xet]` or `pip install hf_xet`\n"
     ]
    }
   ],
   "source": [
    "# Load model directly\n",
    "from transformers import AutoTokenizer, AutoModelForSeq2SeqLM\n",
    "\n",
    "tokenizer = AutoTokenizer.from_pretrained(\"facebook/nllb-200-distilled-600M\")\n",
    "model = AutoModelForSeq2SeqLM.from_pretrained(\"facebook/nllb-200-distilled-600M\")"
   ]
  },
  {
   "cell_type": "code",
   "execution_count": 7,
   "id": "9f36a6b3",
   "metadata": {},
   "outputs": [
    {
     "name": "stdout",
     "output_type": "stream",
     "text": [
      "सबै मानिस स्वतन्त्र र समान गरिमा र अधिकारमा जन्मेका छन् । तिनीहरू बुद्धि र विवेकले भरिपूर्ण छन् र एक-अर्काप्रति भाइचाराको भावनाले व्यवहार गर्नुपर्दछ ।\n"
     ]
    }
   ],
   "source": [
    "from transformers import AutoTokenizer, AutoModelForSeq2SeqLM\n",
    "\n",
    "model_name = \"facebook/nllb-200-distilled-600M\"\n",
    "\n",
    "tokenizer = AutoTokenizer.from_pretrained(model_name)\n",
    "model = AutoModelForSeq2SeqLM.from_pretrained(model_name)\n",
    "\n",
    "# Language codes\n",
    "src_lang = \"eng_Latn\"\n",
    "tgt_lang = \"npi_Deva\"\n",
    "\n",
    "# Set source language\n",
    "tokenizer.src_lang = src_lang\n",
    "\n",
    "# Get the target language token ID manually from the tokenizer vocab\n",
    "forced_bos_token_id = tokenizer.convert_tokens_to_ids(tgt_lang)\n",
    "\n",
    "# Input text\n",
    "english_text = \"All human beings are born free and equal in dignity and rights. They are endowed with reason and conscience and should act towards one another in a spirit of brotherhood.\"\n",
    "\n",
    "# Tokenize\n",
    "inputs = tokenizer(\n",
    "    english_text,\n",
    "    return_tensors=\"pt\",\n",
    "    padding=\"max_length\",\n",
    "    truncation=True,\n",
    "    max_length=512\n",
    ")\n",
    "\n",
    "# Generate translation\n",
    "translated = model.generate(\n",
    "    **inputs,\n",
    "    forced_bos_token_id=forced_bos_token_id,\n",
    "    max_length=128,\n",
    "    num_beams=4,\n",
    "    early_stopping=True\n",
    ")\n",
    "\n",
    "# Decode\n",
    "nepali_translation = tokenizer.decode(translated[0], skip_special_tokens=True)\n",
    "print(nepali_translation)\n"
   ]
  },
  {
   "cell_type": "code",
   "execution_count": 9,
   "id": "0f65ea4b",
   "metadata": {},
   "outputs": [
    {
     "name": "stdout",
     "output_type": "stream",
     "text": [
      "BLEU score: 11.33\n"
     ]
    }
   ],
   "source": [
    "import sacrebleu\n",
    "\n",
    "# Example\n",
    "predictions = [\"सबै मानिस स्वतन्त्र र समान गरिमा र अधिकारमा जन्मेका छन् । तिनीहरू बुद्धि र विवेकले भरिपूर्ण छन् र एक-अर्काप्रति भाइचाराको भावनाले व्यवहार गर्नुपर्दछ ।\"]  # Note: list of strings\n",
    "references = [[\"सबै मानव जन्मजात स्वतन्त्र र मर्यादा र अधिकारमा समान छन्। तिनीहरू तर्क र विवेकले सम्पन्न छन् र तिनीहरूले एकअर्काप्रति भाइचाराको भावनाले व्यवहार गर्नुपर्छ।\"]]  # Note: list of list\n",
    "\n",
    "# Compute BLEU\n",
    "bleu = sacrebleu.corpus_bleu(predictions, references)\n",
    "print(f\"BLEU score: {bleu.score:.2f}\")"
   ]
  },
  {
   "cell_type": "code",
   "execution_count": null,
   "id": "e5d678af",
   "metadata": {},
   "outputs": [],
   "source": []
  }
 ],
 "metadata": {
  "kernelspec": {
   "display_name": ".venv",
   "language": "python",
   "name": "python3"
  },
  "language_info": {
   "codemirror_mode": {
    "name": "ipython",
    "version": 3
   },
   "file_extension": ".py",
   "mimetype": "text/x-python",
   "name": "python",
   "nbconvert_exporter": "python",
   "pygments_lexer": "ipython3",
   "version": "3.9.10"
  }
 },
 "nbformat": 4,
 "nbformat_minor": 5
}
