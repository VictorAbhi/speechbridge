{
 "cells": [
  {
   "cell_type": "code",
   "execution_count": 1,
   "id": "48e537e9",
   "metadata": {},
   "outputs": [
    {
     "name": "stdout",
     "output_type": "stream",
     "text": [
      "Collecting git+https://github.com/openai/whisper.git\n",
      "  Cloning https://github.com/openai/whisper.git to c:\\users\\adabh\\appdata\\local\\temp\\pip-req-build-eqyr1wyn\n",
      "  Resolved https://github.com/openai/whisper.git to commit dd985ac4b90cafeef8712f2998d62c59c3e62d22\n",
      "  Installing build dependencies: started\n",
      "  Installing build dependencies: finished with status 'done'\n",
      "  Getting requirements to build wheel: started\n",
      "  Getting requirements to build wheel: finished with status 'done'\n",
      "  Preparing metadata (pyproject.toml): started\n",
      "  Preparing metadata (pyproject.toml): finished with status 'done'\n",
      "Requirement already satisfied: more-itertools in c:\\users\\adabh\\documents\\projects\\speechbridge\\.venv\\lib\\site-packages (from openai-whisper==20240930) (10.7.0)\n",
      "Requirement already satisfied: numba in c:\\users\\adabh\\documents\\projects\\speechbridge\\.venv\\lib\\site-packages (from openai-whisper==20240930) (0.60.0)\n",
      "Requirement already satisfied: numpy in c:\\users\\adabh\\documents\\projects\\speechbridge\\.venv\\lib\\site-packages (from openai-whisper==20240930) (2.0.2)\n",
      "Requirement already satisfied: tiktoken in c:\\users\\adabh\\documents\\projects\\speechbridge\\.venv\\lib\\site-packages (from openai-whisper==20240930) (0.9.0)\n",
      "Requirement already satisfied: torch in c:\\users\\adabh\\documents\\projects\\speechbridge\\.venv\\lib\\site-packages (from openai-whisper==20240930) (2.7.1)\n",
      "Requirement already satisfied: tqdm in c:\\users\\adabh\\documents\\projects\\speechbridge\\.venv\\lib\\site-packages (from openai-whisper==20240930) (4.67.1)\n",
      "Requirement already satisfied: llvmlite<0.44,>=0.43.0dev0 in c:\\users\\adabh\\documents\\projects\\speechbridge\\.venv\\lib\\site-packages (from numba->openai-whisper==20240930) (0.43.0)\n",
      "Requirement already satisfied: regex>=2022.1.18 in c:\\users\\adabh\\documents\\projects\\speechbridge\\.venv\\lib\\site-packages (from tiktoken->openai-whisper==20240930) (2024.11.6)\n",
      "Requirement already satisfied: requests>=2.26.0 in c:\\users\\adabh\\documents\\projects\\speechbridge\\.venv\\lib\\site-packages (from tiktoken->openai-whisper==20240930) (2.32.4)\n",
      "Requirement already satisfied: charset_normalizer<4,>=2 in c:\\users\\adabh\\documents\\projects\\speechbridge\\.venv\\lib\\site-packages (from requests>=2.26.0->tiktoken->openai-whisper==20240930) (3.4.2)\n",
      "Requirement already satisfied: idna<4,>=2.5 in c:\\users\\adabh\\documents\\projects\\speechbridge\\.venv\\lib\\site-packages (from requests>=2.26.0->tiktoken->openai-whisper==20240930) (3.10)\n",
      "Requirement already satisfied: urllib3<3,>=1.21.1 in c:\\users\\adabh\\documents\\projects\\speechbridge\\.venv\\lib\\site-packages (from requests>=2.26.0->tiktoken->openai-whisper==20240930) (2.4.0)\n",
      "Requirement already satisfied: certifi>=2017.4.17 in c:\\users\\adabh\\documents\\projects\\speechbridge\\.venv\\lib\\site-packages (from requests>=2.26.0->tiktoken->openai-whisper==20240930) (2025.4.26)\n",
      "Requirement already satisfied: filelock in c:\\users\\adabh\\documents\\projects\\speechbridge\\.venv\\lib\\site-packages (from torch->openai-whisper==20240930) (3.18.0)\n",
      "Requirement already satisfied: typing-extensions>=4.10.0 in c:\\users\\adabh\\documents\\projects\\speechbridge\\.venv\\lib\\site-packages (from torch->openai-whisper==20240930) (4.14.0)\n",
      "Requirement already satisfied: sympy>=1.13.3 in c:\\users\\adabh\\documents\\projects\\speechbridge\\.venv\\lib\\site-packages (from torch->openai-whisper==20240930) (1.14.0)\n",
      "Requirement already satisfied: networkx in c:\\users\\adabh\\documents\\projects\\speechbridge\\.venv\\lib\\site-packages (from torch->openai-whisper==20240930) (3.2.1)\n",
      "Requirement already satisfied: jinja2 in c:\\users\\adabh\\documents\\projects\\speechbridge\\.venv\\lib\\site-packages (from torch->openai-whisper==20240930) (3.1.6)\n",
      "Requirement already satisfied: fsspec in c:\\users\\adabh\\documents\\projects\\speechbridge\\.venv\\lib\\site-packages (from torch->openai-whisper==20240930) (2025.5.1)\n",
      "Requirement already satisfied: mpmath<1.4,>=1.1.0 in c:\\users\\adabh\\documents\\projects\\speechbridge\\.venv\\lib\\site-packages (from sympy>=1.13.3->torch->openai-whisper==20240930) (1.3.0)\n",
      "Requirement already satisfied: MarkupSafe>=2.0 in c:\\users\\adabh\\documents\\projects\\speechbridge\\.venv\\lib\\site-packages (from jinja2->torch->openai-whisper==20240930) (3.0.2)\n",
      "Requirement already satisfied: colorama in c:\\users\\adabh\\documents\\projects\\speechbridge\\.venv\\lib\\site-packages (from tqdm->openai-whisper==20240930) (0.4.6)\n",
      "Note: you may need to restart the kernel to use updated packages.\n"
     ]
    },
    {
     "name": "stderr",
     "output_type": "stream",
     "text": [
      "  Running command git clone --filter=blob:none --quiet https://github.com/openai/whisper.git 'C:\\Users\\adabh\\AppData\\Local\\Temp\\pip-req-build-eqyr1wyn'\n"
     ]
    }
   ],
   "source": [
    "pip install git+https://github.com/openai/whisper.git "
   ]
  },
  {
   "cell_type": "code",
   "execution_count": 2,
   "id": "05799a14",
   "metadata": {},
   "outputs": [],
   "source": [
    "import whisper\n",
    "from pathlib import Path\n",
    "import datetime\n",
    "import os\n",
    "from tqdm import tqdm"
   ]
  },
  {
   "cell_type": "code",
   "execution_count": 3,
   "id": "dd81193f",
   "metadata": {},
   "outputs": [],
   "source": [
    "# load the Whisper model\n",
    "model = whisper.load_model(\"small\")"
   ]
  },
  {
   "cell_type": "code",
   "execution_count": 4,
   "id": "31970919",
   "metadata": {},
   "outputs": [
    {
     "name": "stdout",
     "output_type": "stream",
     "text": [
      "Absolute path: C:\\Users\\adabh\\Documents\\projects\\speechbridge\\data\\raw\\sample.wav\n",
      "Exists: True\n"
     ]
    }
   ],
   "source": [
    "from pathlib import Path\n",
    "\n",
    "# Replace this with your actual filename\n",
    "file_path = Path(\"../data/raw/sample.wav\")\n",
    "\n",
    "print(\"Absolute path:\", file_path.resolve())\n",
    "print(\"Exists:\", file_path.exists())"
   ]
  },
  {
   "cell_type": "code",
   "execution_count": 13,
   "id": "f1dc2528",
   "metadata": {},
   "outputs": [
    {
     "name": "stdout",
     "output_type": "stream",
     "text": [
      "[00:00.000 --> 00:05.740]  To India now, and authorities say they've now recovered 270 bodies from the site of\n",
      "[00:05.740 --> 00:09.140]  plane crash in Armourabad city on Thursday.\n",
      "[00:09.140 --> 00:12.780]  241 people on board the flight died.\n",
      "[00:12.780 --> 00:16.700]  One British passenger escaped through a hole in the fuselage.\n",
      "[00:16.700 --> 00:20.100]  Our correspondent Davina Gupta sent this report from the city.\n",
      "[00:20.100 --> 00:27.180]  An angry Ghulam Rasool demanded from the body of his friend Javi at the city hospital\n",
      "[00:27.180 --> 00:29.980]  in Ahmedabad.\n",
      "[00:29.980 --> 00:34.300]  This is an emergency case and the DNA report should come out quickly but the authorities\n",
      "[00:34.300 --> 00:36.660]  are not doing anything about it.\n",
      "[00:36.660 --> 00:44.660]  Javi was among those killed when the London bound Air India flight crashed on Wednesday.\n",
      "[00:44.660 --> 00:47.620]  In another corner, more angry voices.\n",
      "[00:47.620 --> 00:52.140]  Give my son's body back, shouts one man.\n",
      "[00:52.140 --> 00:54.180]  The process is slow.\n",
      "[00:54.180 --> 00:59.300]  Families first have to submit DNA samples for identification and then they're asked\n",
      "[00:59.300 --> 01:01.300]  to go to the government mortuary.\n",
      "[01:01.300 --> 01:07.900]  There's a cold storage room inside where the bodies have been kept under freezing conditions.\n",
      "[01:07.900 --> 01:12.700]  Till the time their family members can come forward and identify them.\n",
      "[01:12.700 --> 01:15.980]  They're being charged beyond recognition.\n",
      "[01:15.980 --> 01:22.060]  Just outside this place, there is a table where officials are sitting to confirm a DNA\n",
      "[01:22.060 --> 01:23.060]  match.\n",
      "[01:23.060 --> 01:27.620]  These are the family members who've already given their DNA samples in another hospital\n",
      "[01:27.740 --> 01:32.660]  and once they have been matched, they've been called here to show their identification\n",
      "[01:32.660 --> 01:35.740]  and after that they've been allowed to go inside.\n",
      "[01:35.740 --> 01:40.820]  And by the evening, some answers begin to arrive.\n",
      "[01:40.820 --> 01:47.140]  Officials say they've had DNA matches for a total of 11 victims so far.\n",
      "[01:47.140 --> 01:53.340]  Among the first to be identified was a young medical student, Aryan Rajput.\n",
      "[01:53.340 --> 02:00.340]  His family took his body home to the central Indian city of Bvaliar for a final farewell.\n",
      "[02:00.340 --> 02:05.980]  They're also seeking the truth behind this flight crash.\n",
      "[02:05.980 --> 02:09.300]  The government says it's speeding up the probe.\n",
      "[02:09.300 --> 02:17.540]  One important update from the technical investigation which is happening through the AIB is the\n",
      "[02:17.540 --> 02:20.660]  recovery of the black box yesterday around 5pm.\n",
      "[02:20.660 --> 02:27.540]  We are also eagerly waiting for what the results or the report is going to be.\n",
      "[02:27.540 --> 02:32.380]  Back at Ahmedabad's hospital, empty coffins arrive to transport the last remains of the\n",
      "[02:32.380 --> 02:33.380]  crash victims.\n",
      "[02:33.380 --> 02:39.300]  A grim reminder of the loss and the long wait for many families.\n",
      "[02:39.300 --> 02:43.100]  Divina Gupta, BBC News, Ahmedabad.\n",
      "[02:43.100 --> 02:48.180]  Let's go live to the scene and my colleague Arun De Mukherjee is there and Arun De, I\n",
      "[02:48.180 --> 02:52.940]  understand some of the funerals likely to take place today.\n",
      "[02:52.940 --> 03:00.500]  Well, yes, we're not exactly sure whether those are the bodies of those from the aircraft\n",
      "[03:00.500 --> 03:06.580]  or the bodies that were recovered from the site of people who were inside those buildings\n",
      "[03:06.580 --> 03:08.580]  when the aircraft stuck.\n",
      "[03:08.580 --> 03:15.300]  We do have an updated death toll from the doctors association of the hospital which\n",
      "[03:15.420 --> 03:18.060]  is treating the injured as well as attending to the death.\n",
      "[03:18.060 --> 03:20.860]  They said that 270 have died.\n",
      "[03:20.860 --> 03:22.860]  That is the report that they have.\n",
      "[03:22.860 --> 03:28.420]  And at the moment over here, we've seen since yesterday a steady stream of officials continue\n",
      "[03:28.420 --> 03:30.700]  to arrive driving in and out through these barricades.\n",
      "[03:30.700 --> 03:35.980]  This is the last point that I've been saying till the crash site where we've been barricaded\n",
      "[03:35.980 --> 03:36.980]  into.\n",
      "[03:36.980 --> 03:39.340]  But the officials essentially come in and out.\n",
      "[03:39.340 --> 03:43.340]  Still, the efforts are on to ensure that they've managed to pick up everything that\n",
      "[03:43.380 --> 03:49.140]  could be essential and crucial for the investigation, which they feel could perish in this heat\n",
      "[03:49.140 --> 03:50.140]  and in this humidity.\n",
      "[03:50.140 --> 03:52.140]  It also rained a bit last night.\n",
      "[03:52.140 --> 03:55.140]  So they really worked to ensure they have all the articles.\n",
      "[03:55.140 --> 04:02.140]  I have seen relatively less activity here compared to yesterday or the last evening.\n",
      "[04:02.140 --> 04:07.140]  It's been fairly quiet in relative terms, but you see the occasional cars coming in and\n",
      "[04:07.140 --> 04:08.140]  out.\n",
      "[04:08.140 --> 04:10.140]  We heard from the civil aviation minister as the reporter about my colleague Irina who\n",
      "[04:10.140 --> 04:11.140]  pointed out yesterday.\n",
      "[04:11.140 --> 04:13.940]  They are focusing on two major things.\n",
      "[04:13.940 --> 04:17.220]  One of course is the recovery of the black box, the successful recovery of the black\n",
      "[04:17.220 --> 04:21.980]  box which they feel is going to give you all the details about what happened in the cockpit\n",
      "[04:21.980 --> 04:23.140]  moments before the crash.\n",
      "[04:23.140 --> 04:29.660]  And two, the ongoing investigations of the existing 787 Boeing fleet which is being carried\n",
      "[04:29.660 --> 04:30.660]  out.\n",
      "[04:30.660 --> 04:33.140]  They've managed to clear a few aircraft, but many more are left.\n",
      "[04:33.140 --> 04:35.140]  Really, they like that at the scene.\n",
      "[04:35.140 --> 04:36.140]  Thank you very much.\n",
      " To India now, and authorities say they've now recovered 270 bodies from the site of plane crash in Armourabad city on Thursday. 241 people on board the flight died. One British passenger escaped through a hole in the fuselage. Our correspondent Davina Gupta sent this report from the city. An angry Ghulam Rasool demanded from the body of his friend Javi at the city hospital in Ahmedabad. This is an emergency case and the DNA report should come out quickly but the authorities are not doing anything about it. Javi was among those killed when the London bound Air India flight crashed on Wednesday. In another corner, more angry voices. Give my son's body back, shouts one man. The process is slow. Families first have to submit DNA samples for identification and then they're asked to go to the government mortuary. There's a cold storage room inside where the bodies have been kept under freezing conditions. Till the time their family members can come forward and identify them. They're being charged beyond recognition. Just outside this place, there is a table where officials are sitting to confirm a DNA match. These are the family members who've already given their DNA samples in another hospital and once they have been matched, they've been called here to show their identification and after that they've been allowed to go inside. And by the evening, some answers begin to arrive. Officials say they've had DNA matches for a total of 11 victims so far. Among the first to be identified was a young medical student, Aryan Rajput. His family took his body home to the central Indian city of Bvaliar for a final farewell. They're also seeking the truth behind this flight crash. The government says it's speeding up the probe. One important update from the technical investigation which is happening through the AIB is the recovery of the black box yesterday around 5pm. We are also eagerly waiting for what the results or the report is going to be. Back at Ahmedabad's hospital, empty coffins arrive to transport the last remains of the crash victims. A grim reminder of the loss and the long wait for many families. Divina Gupta, BBC News, Ahmedabad. Let's go live to the scene and my colleague Arun De Mukherjee is there and Arun De, I understand some of the funerals likely to take place today. Well, yes, we're not exactly sure whether those are the bodies of those from the aircraft or the bodies that were recovered from the site of people who were inside those buildings when the aircraft stuck. We do have an updated death toll from the doctors association of the hospital which is treating the injured as well as attending to the death. They said that 270 have died. That is the report that they have. And at the moment over here, we've seen since yesterday a steady stream of officials continue to arrive driving in and out through these barricades. This is the last point that I've been saying till the crash site where we've been barricaded into. But the officials essentially come in and out. Still, the efforts are on to ensure that they've managed to pick up everything that could be essential and crucial for the investigation, which they feel could perish in this heat and in this humidity. It also rained a bit last night. So they really worked to ensure they have all the articles. I have seen relatively less activity here compared to yesterday or the last evening. It's been fairly quiet in relative terms, but you see the occasional cars coming in and out. We heard from the civil aviation minister as the reporter about my colleague Irina who pointed out yesterday. They are focusing on two major things. One of course is the recovery of the black box, the successful recovery of the black box which they feel is going to give you all the details about what happened in the cockpit moments before the crash. And two, the ongoing investigations of the existing 787 Boeing fleet which is being carried out. They've managed to clear a few aircraft, but many more are left. Really, they like that at the scene. Thank you very much.\n"
     ]
    }
   ],
   "source": [
    "audio_file = \"../data/cleaned/sample1_denoised.wav\"\n",
    "\n",
    "# Transcribe the audio file\n",
    "result = model.transcribe(audio_file, language=\"en\", verbose=True)\n",
    "# Print the transcription\n",
    "print(result[\"text\"])"
   ]
  },
  {
   "cell_type": "code",
   "execution_count": 7,
   "id": "56770686",
   "metadata": {},
   "outputs": [],
   "source": [
    "# convert  audio to wav using ffmpeg\n",
    "def convert_to_wav(input_file, output_file):\n",
    "    os.system(f\"ffmpeg -i {input_file} -acodec pcm_s16le -ar 16000 -ac 1 {output_file}\")\n",
    "    \n",
    "    # remove the original file if needed\n",
    "    if os.path.exists(input_file):\n",
    "        os.remove(input_file)\n",
    "\n",
    "convert_to_wav(\"../data/raw/sample1.mp3\", \"../data/raw/sample1.wav\")"
   ]
  },
  {
   "cell_type": "code",
   "execution_count": 10,
   "id": "2b893792",
   "metadata": {},
   "outputs": [],
   "source": [
    "import noisereduce as nr\n",
    "import librosa\n",
    "import soundfile as sf\n",
    "\n",
    "def denoise_audio(input_path, output_path):\n",
    "    # Load audio\n",
    "    y, sr = librosa.load(input_path, sr=None)\n",
    "    \n",
    "    # Estimate noise from the first 0.5 second (adjust if needed)\n",
    "    noise_sample = y[:int(sr * 0.5)]\n",
    "    \n",
    "    # Reduce noise\n",
    "    reduced_noise = nr.reduce_noise(y=y, sr=sr, y_noise=noise_sample)\n",
    "    \n",
    "    # Save to new file\n",
    "    sf.write(output_path, reduced_noise, sr)\n",
    "    print(f\"Saved denoised audio to: {output_path}\")"
   ]
  },
  {
   "cell_type": "code",
   "execution_count": 14,
   "id": "5088f13e",
   "metadata": {},
   "outputs": [
    {
     "name": "stdout",
     "output_type": "stream",
     "text": [
      "Saved denoised audio to: ../data/cleaned/sample_denoised.wav\n"
     ]
    }
   ],
   "source": [
    "denoise_audio(\n",
    "    input_path=\"../data/raw/sample.wav\",\n",
    "    output_path=\"../data/cleaned/sample_denoised.wav\"\n",
    ")\n"
   ]
  },
  {
   "cell_type": "code",
   "execution_count": 15,
   "id": "f3e0547a",
   "metadata": {},
   "outputs": [],
   "source": [
    "reference = '''to India now and authorities say they've now recovered 2470 bodies from the site of the plane crash in Armabad city on Thursday 241 people on board the flight died one British passenger escaped through a hole in the fuselage our correspondent Deavina Gupta sent this \n",
    "report from the city \n",
    "an angry Gulam Rasul demanding the body \n",
    "of his friend Jabid at the city hospital \n",
    "in Ahmedabad \n",
    "this is an emergency case and the DNA \n",
    "report should come out quickly but the \n",
    "authorities are not doing anything about \n",
    "it jawed was among those killed when the \n",
    "Londonbound Air India flight crashed on \n",
    "Wednesday \n",
    "in another corner more angry voices give \n",
    "my son's body back shouts one man the \n",
    "process is slow families first have to \n",
    "submit DNA samples for identification \n",
    "and then they're asked to go to the \n",
    "government moery now there's a cold \n",
    "storage room inside where the bodies \n",
    "have been kept under freezing conditions \n",
    "till the time their family members can \n",
    "come forward and identify them now \n",
    "they're being charged beyond recognition \n",
    "so just outside this place there is a \n",
    "table where officials are sitting to \n",
    "confirm a DNA match now these are the \n",
    "family members who have already given \n",
    "their DNA samples in another hospital \n",
    "and once they have been matched they've \n",
    "been called here to show their \n",
    "identification and after that they've \n",
    "been allowed to go inside and by the \n",
    "evening some answers begin to arrive \n",
    "unfortunately officials say they've had \n",
    "DNA matches for a total of 11 victims so \n",
    "far among the first to be identified was \n",
    "a young medical student Arian Rajbut \n",
    "his family took his body home to the \n",
    "central Indian city of Gualia for a \n",
    "final farewell \n",
    "they're also seeking the truth behind \n",
    "this flight crash that tragic incident \n",
    "the government says it's speeding up the \n",
    "probe one important update from the \n",
    "technical investigation \n",
    "which is happening through the AIB \n",
    "is the recovery of the black box \n",
    "yesterday around 5:00 p.m we are also \n",
    "eagerly waiting \n",
    "for what the results or the report is \n",
    "going to be back at Ahmedabad's hospital \n",
    "empty coffins arrived to transport the \n",
    "last remains of the crash victims a grim \n",
    "reminder of the loss and the long wait \n",
    "for many families dina Gupta BBC News \n",
    "Ahmedabad \n",
    "let's go live to the scene and my \n",
    "colleague Arunad Mukhajji is there and \n",
    "Arund understands some of the funerals \n",
    "uh likely to take place today \n",
    "well uh yes uh we we we're not exactly \n",
    "sure whether those are the bodies of \n",
    "those from the aircraft or the uh bodies \n",
    "that were recovered from the site uh you \n",
    "know of the people who were inside those \n",
    "buildings when uh the uh aircraft stuck \n",
    "we do have an updated death toll uh from \n",
    "the uh uh uh the uh doctor's association \n",
    "of the hospital which is treating the \n",
    "injured as well as attending to the dead \n",
    "they said that 270 uh have died is the \n",
    "report that they have uh and at the \n",
    "moment over here you know we've seen \n",
    "since yesterday a steady stream of \n",
    "officials who've continued to arrive \n",
    "driving in and out through these \n",
    "barricades this is the last point as \n",
    "I've been saying uh till the crash site \n",
    "where we've been barricaded uh you know \n",
    "into but the officials essentially \n",
    "coming in and out uh still uh the \n",
    "efforts are on to ensure that they've \n",
    "managed to pick up everything that could \n",
    "be essential and crucial to the \n",
    "investigation uh which they feel could \n",
    "perish in this uh in this heat and in \n",
    "this humidity it also rained a bit last \n",
    "night uh so they they really working \n",
    "against time to ensure they have all the \n",
    "articles i have I have seen relatively \n",
    "less activity here compared to yesterday \n",
    "or till last evening it's been fairly \n",
    "quiet in relative terms but you see the \n",
    "occasional cars coming in and out we \n",
    "heard from the civil aviation minister \n",
    "as that reporter by my colleague Deina \n",
    "also pointed out yesterday and they're \n",
    "focusing on two major things one of \n",
    "course is the recovery of the black box \n",
    "the successful recovery of the black box \n",
    "which they feel is going to give you uh \n",
    "all the details about what happened in \n",
    "the cockpit moments before the crash and \n",
    "two the ongoing investigations of the \n",
    "existing 787 Boeing fleet which is being \n",
    "carried out they've managed to clear a \n",
    "few aircraft but many more are left run \n",
    "a day live there at the scene thank you \n",
    "very much '''"
   ]
  },
  {
   "cell_type": "code",
   "execution_count": 16,
   "id": "3708be02",
   "metadata": {},
   "outputs": [
    {
     "name": "stdout",
     "output_type": "stream",
     "text": [
      "WER: 0.2605820105820106\n"
     ]
    }
   ],
   "source": [
    "from jiwer import wer\n",
    "\n",
    "print(\"WER:\", wer(reference, result[\"text\"]))"
   ]
  },
  {
   "cell_type": "code",
   "execution_count": null,
   "id": "b860d3ab",
   "metadata": {},
   "outputs": [],
   "source": []
  }
 ],
 "metadata": {
  "kernelspec": {
   "display_name": ".venv",
   "language": "python",
   "name": "python3"
  },
  "language_info": {
   "codemirror_mode": {
    "name": "ipython",
    "version": 3
   },
   "file_extension": ".py",
   "mimetype": "text/x-python",
   "name": "python",
   "nbconvert_exporter": "python",
   "pygments_lexer": "ipython3",
   "version": "3.9.10"
  }
 },
 "nbformat": 4,
 "nbformat_minor": 5
}
